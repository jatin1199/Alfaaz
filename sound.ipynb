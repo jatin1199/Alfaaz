{
 "cells": [
  {
   "cell_type": "code",
   "execution_count": 1,
   "metadata": {},
   "outputs": [
    {
     "name": "stdout",
     "output_type": "stream",
     "text": [
      "Collecting SpeechRecognition\n",
      "  Downloading SpeechRecognition-3.8.1-py2.py3-none-any.whl (32.8 MB)\n",
      "Installing collected packages: SpeechRecognition\n",
      "Successfully installed SpeechRecognition-3.8.1\n"
     ]
    }
   ],
   "source": [
    "!pip install SpeechRecognition"
   ]
  },
  {
   "cell_type": "code",
   "execution_count": 6,
   "metadata": {
    "scrolled": true
   },
   "outputs": [
    {
     "name": "stdout",
     "output_type": "stream",
     "text": [
      "Collecting pipwin\n",
      "  Downloading pipwin-0.5.1.tar.gz (8.8 kB)\n",
      "Collecting docopt\n",
      "  Downloading docopt-0.6.2.tar.gz (25 kB)\n",
      "Requirement already satisfied: requests in g:\\new\\data_science\\lib\\site-packages (from pipwin) (2.24.0)\n",
      "Collecting pyprind\n",
      "  Downloading PyPrind-2.11.3-py2.py3-none-any.whl (8.4 kB)\n",
      "Requirement already satisfied: six in g:\\new\\data_science\\lib\\site-packages (from pipwin) (1.15.0)\n",
      "Requirement already satisfied: beautifulsoup4>=4.9.0 in g:\\new\\data_science\\lib\\site-packages (from pipwin) (4.9.3)\n",
      "Collecting js2py\n",
      "  Downloading Js2Py-0.71-py3-none-any.whl (1.0 MB)\n",
      "Requirement already satisfied: packaging in g:\\new\\data_science\\lib\\site-packages (from pipwin) (20.4)\n",
      "Collecting pySmartDL>=1.3.1\n",
      "  Downloading pySmartDL-1.3.4-py3-none-any.whl (20 kB)\n",
      "Requirement already satisfied: certifi>=2017.4.17 in g:\\new\\data_science\\lib\\site-packages (from requests->pipwin) (2020.6.20)\n",
      "Requirement already satisfied: idna<3,>=2.5 in g:\\new\\data_science\\lib\\site-packages (from requests->pipwin) (2.10)\n",
      "Requirement already satisfied: chardet<4,>=3.0.2 in g:\\new\\data_science\\lib\\site-packages (from requests->pipwin) (3.0.4)\n",
      "Requirement already satisfied: urllib3!=1.25.0,!=1.25.1,<1.26,>=1.21.1 in g:\\new\\data_science\\lib\\site-packages (from requests->pipwin) (1.25.11)\n",
      "Requirement already satisfied: soupsieve>1.2; python_version >= \"3.0\" in g:\\new\\data_science\\lib\\site-packages (from beautifulsoup4>=4.9.0->pipwin) (2.0.1)\n",
      "Collecting pyjsparser>=2.5.1\n",
      "  Downloading pyjsparser-2.7.1.tar.gz (24 kB)\n",
      "Collecting tzlocal>=1.2\n",
      "  Downloading tzlocal-2.1-py2.py3-none-any.whl (16 kB)\n",
      "Requirement already satisfied: pyparsing>=2.0.2 in g:\\new\\data_science\\lib\\site-packages (from packaging->pipwin) (2.4.7)\n",
      "Requirement already satisfied: pytz in g:\\new\\data_science\\lib\\site-packages (from tzlocal>=1.2->js2py->pipwin) (2020.1)\n",
      "Building wheels for collected packages: pipwin, docopt, pyjsparser\n",
      "  Building wheel for pipwin (setup.py): started\n",
      "  Building wheel for pipwin (setup.py): finished with status 'done'\n",
      "  Created wheel for pipwin: filename=pipwin-0.5.1-py2.py3-none-any.whl size=8784 sha256=0ff3dda6801eca5e2a0b55908ed391cc7a7355f44a32399dfaf00e8e03917b8b\n",
      "  Stored in directory: c:\\users\\hp\\appdata\\local\\pip\\cache\\wheels\\94\\1b\\63\\6465d24b53c03f566cfb25a7a9b806b4b0e29c95d82ac189d8\n",
      "  Building wheel for docopt (setup.py): started\n",
      "  Building wheel for docopt (setup.py): finished with status 'done'\n",
      "  Created wheel for docopt: filename=docopt-0.6.2-py2.py3-none-any.whl size=13709 sha256=a4a834e1f7bf3598d44f65c0c630c3d299810cd7b5dcfd43ef63530accabb6f1\n",
      "  Stored in directory: c:\\users\\hp\\appdata\\local\\pip\\cache\\wheels\\56\\ea\\58\\ead137b087d9e326852a851351d1debf4ada529b6ac0ec4e8c\n",
      "  Building wheel for pyjsparser (setup.py): started\n",
      "  Building wheel for pyjsparser (setup.py): finished with status 'done'\n",
      "  Created wheel for pyjsparser: filename=pyjsparser-2.7.1-py3-none-any.whl size=26004 sha256=3412b03a8a00fdc6079a73f4ba01b12a8976a89fddd458070d8a1874c7be65cf\n",
      "  Stored in directory: c:\\users\\hp\\appdata\\local\\pip\\cache\\wheels\\d5\\88\\34\\ccb5bb40eb3178a134eb293e6c363928c5bcfba0b91031db76\n",
      "Successfully built pipwin docopt pyjsparser\n",
      "Installing collected packages: docopt, pyprind, pyjsparser, tzlocal, js2py, pySmartDL, pipwin\n",
      "Successfully installed docopt-0.6.2 js2py-0.71 pipwin-0.5.1 pySmartDL-1.3.4 pyjsparser-2.7.1 pyprind-2.11.3 tzlocal-2.1\n",
      "Building cache. Hang on . . .\n",
      "Done\n",
      "Package `pyaudio` found in cache\n",
      "Downloading package . . .\n",
      "https://download.lfd.uci.edu/pythonlibs/q4trcu4l/PyAudio-0.2.11-cp38-cp38-win_amd64.whl\n",
      "PyAudio-0.2.11-cp38-cp38-win_amd64.whl\n",
      "[*] 0 bytes / 109 kB @ 0 bytes/s [------------------] [0.0%, 0s left]   [*] 0 bytes / 109 kB @ 0 bytes/s [------------------] [0.0%, 0s left]   [*] 0 bytes / 109 kB @ 0 bytes/s [------------------] [0.0%, 0s left]   [*] 0 bytes / 109 kB @ 0 bytes/s [------------------] [0.0%, 0s left]   [*] 0 bytes / 109 kB @ 0 bytes/s [------------------] [0.0%, 0s left]   [*] 0 bytes / 109 kB @ 0 bytes/s [------------------] [0.0%, 0s left]   [*] 0 bytes / 109 kB @ 0 bytes/s [------------------] [0.0%, 0s left]   [*] 0 bytes / 109 kB @ 0 bytes/s [------------------] [0.0%, 0s left]   [*] 0 bytes / 109 kB @ 0 bytes/s [------------------] [0.0%, 0s left]   [*] 0 bytes / 109 kB @ 0 bytes/s [------------------] [0.0%, 0s left]   [*] 0 bytes / 109 kB @ 0 bytes/s [------------------] [0.0%, 0s left]   [*] 0 bytes / 109 kB @ 0 bytes/s [------------------] [0.0%, 0s left]   [*] 0 bytes / 109 kB @ 0 bytes/s [------------------] [0.0%, 0s left]   [*] 0 bytes / 109 kB @ 0 bytes/s [------------------] [0.0%, 0s left]   [*] 0 bytes / 109 kB @ 0 bytes/s [------------------] [0.0%, 0s left]   [*] 8 kB / 109 kB @ 5 kB/s [#-----------------] [7.4%, 0s left]   [*] 8 kB / 109 kB @ 5 kB/s [#-----------------] [7.4%, 0s left]   [*] 24 kB / 109 kB @ 13 kB/s [###---------------] [22.1%, 0s left]  [*] 40 kB / 109 kB @ 21 kB/s [######------------] [36.8%, 0s left]  [*] 40 kB / 109 kB @ 20 kB/s [######------------] [36.8%, 0s left]  Processing c:\\users\\hp\\pipwin\\pyaudio-0.2.11-cp38-cp38-win_amd64.whl\n",
      "Installing collected packages: PyAudio\n",
      "Successfully installed PyAudio-0.2.11\n",
      "[*] 109 kB / 109 kB @ 20 kB/s [##################] [100%, 0s left]    \n"
     ]
    }
   ],
   "source": [
    "# # !pip install pyaudio\n",
    "# !pip install wheel\n",
    "!pip install pipwin\n",
    "!pipwin install pyaudio"
   ]
  },
  {
   "cell_type": "code",
   "execution_count": 4,
   "metadata": {},
   "outputs": [
    {
     "name": "stdout",
     "output_type": "stream",
     "text": [
      "Speak Anything :\n",
      "You said : future\n"
     ]
    }
   ],
   "source": [
    "import speech_recognition as sr\n",
    "import pyaudio\n",
    "r = sr.Recognizer()\n",
    "with sr.Microphone() as source:\n",
    "    print(\"Speak Anything :\")\n",
    "    audio = r.listen(source,timeout=3)\n",
    "    try:\n",
    "        text = r.recognize_google(audio)\n",
    "        print(\"You said : {}\".format(text))\n",
    "    except:\n",
    "        print(\"Sorry could not recognize what you said\")"
   ]
  },
  {
   "cell_type": "code",
   "execution_count": 9,
   "metadata": {},
   "outputs": [
    {
     "name": "stdout",
     "output_type": "stream",
     "text": [
      "Collecting sounddevice\n",
      "  Downloading sounddevice-0.4.1-py3.cp32.cp33.cp34.cp35.cp36.cp37.cp38.cp39.pp32.pp33.pp34.pp35.pp36.pp37-none-win_amd64.whl (167 kB)\n",
      "Requirement already satisfied: CFFI>=1.0 in g:\\new\\data_science\\lib\\site-packages (from sounddevice) (1.14.3)\n",
      "Requirement already satisfied: pycparser in g:\\new\\data_science\\lib\\site-packages (from CFFI>=1.0->sounddevice) (2.20)\n",
      "Installing collected packages: sounddevice\n",
      "Successfully installed sounddevice-0.4.1\n"
     ]
    }
   ],
   "source": [
    "!pip install sounddevice"
   ]
  },
  {
   "cell_type": "code",
   "execution_count": 6,
   "metadata": {},
   "outputs": [
    {
     "name": "stdout",
     "output_type": "stream",
     "text": [
      "talking nonsense\n"
     ]
    }
   ],
   "source": [
    "import speech_recognition as sr\n",
    "import pyaudio\n",
    "import os\n",
    "filename='audio.wav'\n",
    "\n",
    "r=sr.Recognizer()\n",
    "with sr.AudioFile(filename) as source:\n",
    "    # listen for the data (load audio to memory)\n",
    "    audio_data = r.record(source)\n",
    "    # recognize (convert from speech to text)\n",
    "    text = r.recognize_google(audio_data)\n",
    "    print(text)"
   ]
  },
  {
   "cell_type": "code",
   "execution_count": 3,
   "metadata": {},
   "outputs": [
    {
     "data": {
      "text/plain": [
       "['.git',\n",
       " '.ipynb_checkpoints',\n",
       " '0000000000000067',\n",
       " '0000000000000067.zip',\n",
       " '0000000000000074',\n",
       " '0000000000000074.zip',\n",
       " '0000000000000075',\n",
       " '0000000000000075.zip',\n",
       " '0000000000000836',\n",
       " '0000000000000836.zip',\n",
       " '0000000000001822.zip',\n",
       " '0000000000002329_test_diabetes_x_test.csv',\n",
       " '0000000000002329_training_diabetes_x_y_train.csv',\n",
       " '0000000000002714_readme_Cifar10',\n",
       " '0000000000002714_readme_Cifar10.zip',\n",
       " '1.png',\n",
       " '101803568_Tushar_Ass5.ipynb',\n",
       " '101803568_Tushar_Ass6.ipynb',\n",
       " '2.png',\n",
       " '2dfd2de0d4f8727f873422c5d959fff5-fa71405126017e6a37bea592440b4bee94bf7b9e',\n",
       " '2dfd2de0d4f8727f873422c5d959fff5-fa71405126017e6a37bea592440b4bee94bf7b9e.zip',\n",
       " '3.png',\n",
       " '4.png',\n",
       " 'API.ipynb',\n",
       " 'audio.wav',\n",
       " 'Authentication.ipynb',\n",
       " 'BeautifulSoup.ipynb',\n",
       " 'books.csv',\n",
       " 'camras.ipynb',\n",
       " 'camras.py',\n",
       " 'Case Study 2.ipynb',\n",
       " 'Case Study 21.ipynb',\n",
       " 'CaseStudy1.ipynb',\n",
       " 'Case_Study2',\n",
       " 'Case_Study2.docx',\n",
       " 'Case_Study2.zip',\n",
       " 'chromedriver.exe',\n",
       " 'chromedriver_win32.zip',\n",
       " 'ClassificationMetrics.ipynb',\n",
       " 'CLass_Work.ipynb',\n",
       " 'colab_demo_code.ipynb',\n",
       " 'colab_instructions.ipynb',\n",
       " 'College_Work',\n",
       " 'Connect with DB.ipynb',\n",
       " 'data.csv',\n",
       " 'DataSets',\n",
       " 'DB Browser (SQLCipher).lnk',\n",
       " 'DB Browser (SQLite).lnk',\n",
       " 'debug.log',\n",
       " 'Decision Tree.ipynb',\n",
       " 'Descriptive Stats.ipynb',\n",
       " 'Diabetes.ipynb',\n",
       " 'Downloads',\n",
       " 'Feature Scaling.ipynb',\n",
       " 'Files.ipynb',\n",
       " 'geckodriver-v0.28.0-win64.zip',\n",
       " 'geckodriver.exe',\n",
       " 'geckodriver.log',\n",
       " 'Github.ipynb',\n",
       " 'Graph.ipynb',\n",
       " 'haarcascade_frontalface_default.xml',\n",
       " 'Hand_haar_cascade.xml',\n",
       " 'image_captioning.ipynb',\n",
       " 'IMDB.ipynb',\n",
       " 'IMDB.sqlite',\n",
       " 'InstaBot-1.ipynb',\n",
       " 'InstaBot-2.ipynb',\n",
       " 'Instabot1',\n",
       " 'Instabot1.zip',\n",
       " 'InstaBot2',\n",
       " 'InstaBot2.zip',\n",
       " 'Investment.sqlite',\n",
       " 'iris.pdf',\n",
       " 'KMeans.ipynb',\n",
       " 'KNN.ipynb',\n",
       " 'Linear Regression.ipynb',\n",
       " 'linear_regression_on_dummy.ipynb',\n",
       " 'log.csv',\n",
       " 'log.png',\n",
       " 'Logistic Regression.ipynb',\n",
       " 'LogisticRegression.ipynb',\n",
       " 'M1.png',\n",
       " 'Mini_Projects',\n",
       " 'Multivariable Regression.ipynb',\n",
       " 'mwalah.jpeg',\n",
       " 'Naive bayes.ipynb',\n",
       " 'NaiveBayes.ipynb',\n",
       " 'Neural_Network-1.ipynb',\n",
       " 'Neural_Network_1.ipynb',\n",
       " 'New Text Document.txt',\n",
       " 'NLP-1.ipynb',\n",
       " 'NN-2.ipynb',\n",
       " 'NumPy.ipynb',\n",
       " 'one.png',\n",
       " 'p3.png',\n",
       " 'Pandas.ipynb',\n",
       " 'PCA1.ipynb',\n",
       " 'PCA2.ipynb',\n",
       " 'predicted_ans.csv',\n",
       " 'R1.png',\n",
       " 'Random Forest vs Decision Trees.ipynb',\n",
       " 'Reddit Self.ipynb',\n",
       " 'S1.png',\n",
       " 'S2.png',\n",
       " 'S3.png',\n",
       " 'S4.png',\n",
       " 'School.sqlite',\n",
       " 'Seaborn.ipynb',\n",
       " 'Selenium.ipynb',\n",
       " 'SQL',\n",
       " 'sql1.pdf',\n",
       " 'SQL2.pdf',\n",
       " 'Stats.ipynb',\n",
       " 'Supervised Learning.ipynb',\n",
       " 'SVM.ipynb',\n",
       " 'TensorFlow.ipynb',\n",
       " 'test1.png',\n",
       " 'test_shot.png',\n",
       " 'Text_Classification',\n",
       " 'Text_Classification.zip',\n",
       " 'Text_Classification1',\n",
       " 'three.png',\n",
       " 'titanic.csv',\n",
       " 'titanic_x_test.csv',\n",
       " 'titanic_x_train.csv',\n",
       " 'titanic_x_y_train.csv',\n",
       " 'titanic_y_test.csv',\n",
       " 'titanic_y_train.csv',\n",
       " 'try.ipynb',\n",
       " 'Tushar_101803568.ipynb',\n",
       " 'Tushar_101803568.pdf',\n",
       " 'two.png',\n",
       " 'Untitled.ipynb',\n",
       " 'Untitled1.ipynb',\n",
       " 'Untitled2.ipynb',\n",
       " 'Untitled3.ipynb',\n",
       " 'Untitled4.ipynb',\n",
       " 'urban_sound_classification.ipynb',\n",
       " 'Words_and_Frequency.csv',\n",
       " 'z4.png',\n",
       " 'Zomato Project',\n",
       " 'Zomato Project.zip',\n",
       " 'zomato.csv',\n",
       " 'Zomato.docx',\n",
       " 'Zomato1.ipynb',\n",
       " 'Zomato_Project.ipynb',\n",
       " '__MACOSX',\n",
       " '__pycache__']"
      ]
     },
     "execution_count": 3,
     "metadata": {},
     "output_type": "execute_result"
    }
   ],
   "source": [
    "os.listdir()"
   ]
  },
  {
   "cell_type": "code",
   "execution_count": 5,
   "metadata": {},
   "outputs": [],
   "source": [
    "import sounddevice as sd\n",
    "from scipy.io.wavfile import write\n",
    "\n",
    "fs = 44100  # Sample rate\n",
    "seconds = 3  # Duration of recording\n",
    "\n",
    "myrecording = sd.rec(int(seconds * fs), samplerate=fs, channels=2)\n",
    "sd.wait()  # Wait until recording is finished\n",
    "write('output1.wav', fs, myrecording)  # Save as WAV file"
   ]
  },
  {
   "cell_type": "code",
   "execution_count": null,
   "metadata": {},
   "outputs": [],
   "source": []
  },
  {
   "cell_type": "code",
   "execution_count": null,
   "metadata": {},
   "outputs": [],
   "source": []
  },
  {
   "cell_type": "code",
   "execution_count": null,
   "metadata": {},
   "outputs": [],
   "source": []
  },
  {
   "cell_type": "code",
   "execution_count": null,
   "metadata": {},
   "outputs": [],
   "source": []
  }
 ],
 "metadata": {
  "kernelspec": {
   "display_name": "Python 3",
   "language": "python",
   "name": "python3"
  },
  "language_info": {
   "codemirror_mode": {
    "name": "ipython",
    "version": 3
   },
   "file_extension": ".py",
   "mimetype": "text/x-python",
   "name": "python",
   "nbconvert_exporter": "python",
   "pygments_lexer": "ipython3",
   "version": "3.8.5"
  }
 },
 "nbformat": 4,
 "nbformat_minor": 4
}
