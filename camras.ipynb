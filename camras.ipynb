{
 "cells": [
  {
   "cell_type": "code",
   "execution_count": 3,
   "metadata": {
    "scrolled": true
   },
   "outputs": [
    {
     "data": {
      "text/plain": [
       "array([[[130, 130, 137],\n",
       "        [130, 132, 140],\n",
       "        [131, 134, 138],\n",
       "        ...,\n",
       "        [178, 177, 177],\n",
       "        [178, 177, 177],\n",
       "        [178, 177, 177]],\n",
       "\n",
       "       [[131, 131, 138],\n",
       "        [130, 132, 140],\n",
       "        [129, 134, 137],\n",
       "        ...,\n",
       "        [178, 178, 178],\n",
       "        [178, 178, 178],\n",
       "        [179, 179, 179]],\n",
       "\n",
       "       [[130, 133, 138],\n",
       "        [129, 131, 138],\n",
       "        [128, 133, 139],\n",
       "        ...,\n",
       "        [181, 181, 181],\n",
       "        [181, 181, 181],\n",
       "        [181, 181, 181]],\n",
       "\n",
       "       ...,\n",
       "\n",
       "       [[ 99, 117, 126],\n",
       "        [104, 116, 128],\n",
       "        [104, 116, 127],\n",
       "        ...,\n",
       "        [250, 250, 250],\n",
       "        [250, 250, 250],\n",
       "        [250, 250, 250]],\n",
       "\n",
       "       [[ 99, 116, 124],\n",
       "        [101, 116, 128],\n",
       "        [104, 117, 132],\n",
       "        ...,\n",
       "        [250, 250, 250],\n",
       "        [250, 250, 250],\n",
       "        [250, 250, 250]],\n",
       "\n",
       "       [[102, 116, 126],\n",
       "        [103, 116, 130],\n",
       "        [104, 116, 133],\n",
       "        ...,\n",
       "        [250, 250, 250],\n",
       "        [250, 250, 250],\n",
       "        [250, 250, 250]]], dtype=uint8)"
      ]
     },
     "execution_count": 3,
     "metadata": {},
     "output_type": "execute_result"
    }
   ],
   "source": [
    "import pandas as pd\n",
    "import numpy as np\n",
    "import cv2\n",
    "import matplotlib.pyplot as plt    \n",
    "import os \n",
    "def cam():\n",
    "    cap=cv2.VideoCapture(0)\n",
    "    #face_cascade=cv2.CascadeClassifier(\"E:\\\\Coding blocks\\\\29 Face Detection\\\\Hand_haar_cascade.xml\")\n",
    "    while(True):\n",
    "        ret,frame=cap.read()\n",
    "        gray_frame=cv2.cvtColor(frame,cv2.COLOR_BGR2GRAY)\n",
    "        #faces=face_cascade.detectMultiScale(frame,1.3,5)\n",
    "        #if ret==False:\n",
    "        #    continue\n",
    "        #for (x,y,w,h) in faces:\n",
    "        offset=7\n",
    "        x,y,w,h=30,30,200,200\n",
    "        cv2.rectangle(frame,(x,y),(x+w,y+h),(255,0,0),2)\n",
    "        hand_section=frame[y-offset:y+h+offset,x-offset:x+w+offset]\n",
    "        hand_section=cv2.resize(hand_section,(100,100))\n",
    "        cv2.imshow('video',frame)\n",
    "\n",
    "        #cv2.imshow('video1',hand_section)\n",
    "        key_pressed=cv2.waitKey(1) & 0xFF\n",
    "        if  key_pressed==ord('q'):\n",
    "            break\n",
    "    cap.release()\n",
    "    cv2.destroyAllWindows()\n",
    "    return hand_section\n",
    "cam()"
   ]
  },
  {
   "cell_type": "code",
   "execution_count": null,
   "metadata": {},
   "outputs": [],
   "source": []
  }
 ],
 "metadata": {
  "kernelspec": {
   "display_name": "Python 3",
   "language": "python",
   "name": "python3"
  },
  "language_info": {
   "codemirror_mode": {
    "name": "ipython",
    "version": 3
   },
   "file_extension": ".py",
   "mimetype": "text/x-python",
   "name": "python",
   "nbconvert_exporter": "python",
   "pygments_lexer": "ipython3",
   "version": "3.8.5"
  }
 },
 "nbformat": 4,
 "nbformat_minor": 4
}
